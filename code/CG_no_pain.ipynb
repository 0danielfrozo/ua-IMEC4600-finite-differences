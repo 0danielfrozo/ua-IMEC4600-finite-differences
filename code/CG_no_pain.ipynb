{
 "cells": [
  {
   "cell_type": "markdown",
   "metadata": {},
   "source": [
    "# Introducción al Método del Gradiente Conjugado"
   ]
  },
  {
   "cell_type": "markdown",
   "metadata": {},
   "source": [
    "Este cuaderno consiste en una introducción interactiva al método del gradiente conjugado para la solución de sistemas de de ecuaciones dispersos.\n",
    "\n",
    "El cuaderno se basa en el documento  [An Introduction to the Conjugate Gradient Method Without the Agonizing Pain](https://www.cs.cmu.edu/~quake-papers/painless-conjugate-gradient.pdf) de Jonathan Richard Shewchuk de Carnegie Mellon University. Puede considerarse como un complemento a dicho texto con códigos escritos en Python."
   ]
  },
  {
   "cell_type": "code",
   "execution_count": 1,
   "metadata": {},
   "outputs": [
    {
     "name": "stdout",
     "output_type": "stream",
     "text": [
      "Populating the interactive namespace from numpy and matplotlib\n"
     ]
    }
   ],
   "source": [
    "%pylab inline"
   ]
  },
  {
   "cell_type": "code",
   "execution_count": 13,
   "metadata": {},
   "outputs": [],
   "source": [
    "A = np.array([[3,2],[2,6]])\n",
    "b = np.array([2,-8])\n",
    "c = 0"
   ]
  },
  {
   "cell_type": "code",
   "execution_count": 19,
   "metadata": {},
   "outputs": [],
   "source": [
    "def f_quad(x):\n",
    "    return 0.5*dot(dot(x,A),x)-dot(b,x)+c\n",
    "\n",
    "f_quad_v = np.vectorize(f_quad)"
   ]
  },
  {
   "cell_type": "code",
   "execution_count": 14,
   "metadata": {},
   "outputs": [
    {
     "data": {
      "text/plain": [
       "array([ 2., -2.])"
      ]
     },
     "execution_count": 14,
     "metadata": {},
     "output_type": "execute_result"
    }
   ],
   "source": [
    "x_sol = np.linalg.solve(A,b)\n",
    "x_sol"
   ]
  },
  {
   "cell_type": "code",
   "execution_count": 14,
   "metadata": {},
   "outputs": [],
   "source": [
    "nx, ny = (15, 15)\n",
    "xg = np.linspace(-4, 6, nx)\n",
    "yg = np.linspace(-6, 4, ny)\n",
    "xv, yv = np.meshgrid(xg, yg)"
   ]
  },
  {
   "cell_type": "code",
   "execution_count": 23,
   "metadata": {},
   "outputs": [],
   "source": [
    "fsol = f_quad(np.array([2,-2]))"
   ]
  },
  {
   "cell_type": "code",
   "execution_count": 25,
   "metadata": {},
   "outputs": [
    {
     "data": {
      "text/plain": [
       "-10.0"
      ]
     },
     "execution_count": 25,
     "metadata": {},
     "output_type": "execute_result"
    }
   ],
   "source": [
    "fsol"
   ]
  },
  {
   "cell_type": "markdown",
   "metadata": {},
   "source": [
    "Acá necesito desarrollar un método para graphicar la forma cuadrática del sistema de ecuaciones de manera similar a las figuras 2 y 3 del documento."
   ]
  },
  {
   "cell_type": "markdown",
   "metadata": {},
   "source": [
    "## Método del descenso más inclinado - *Steepest Descent*\n",
    "\n",
    "Lo más importante para entender (y aplicar) este método es el residual $r_{(i)}=b - Ax_{(i)}=-f'(x_{(i)})$. El residual indica qué tan lejos está el valor actual de poder calcular de manera correcta el vector $b$ y es igual al gradiente de la forma cuadrática del sistema de ecuaciones. El residual indica la dirección hacia donde la forma cuadrática desciende de manera más rápida hacia su mínimo. "
   ]
  },
  {
   "cell_type": "code",
   "execution_count": 45,
   "metadata": {},
   "outputs": [],
   "source": [
    "def steep_des(A,b,x_ini,tol=1e-6,itmax=1000):\n",
    "    ri = b - np.dot(A,x_ini)\n",
    "    alpha = np.dot(ri,ri)/np.dot(ri,np.dot(A,ri))\n",
    "    xi = x_ini\n",
    "    if np.linalg.norm(ri) <= tol: return xi\n",
    "    for it in range(itmax):\n",
    "        ri = b - np.dot(A,xi)\n",
    "        Ari = np.dot(A,ri)\n",
    "        alpha = np.dot(ri,ri)/np.dot(ri,Ari)\n",
    "        xi = xi + alpha*ri\n",
    "        if np.linalg.norm(ri) <= tol: return xi\n",
    "    raise Exception('No converge')"
   ]
  },
  {
   "cell_type": "code",
   "execution_count": null,
   "metadata": {},
   "outputs": [],
   "source": [
    "def steep_des_opt(A,b,x_ini,tol=1e-6,itmax=1000):\n",
    "    ri = b - np.dot(A,x_ini)\n",
    "    alpha = np.dot(ri,ri)/np.dot(ri,np.dot(A,ri))\n",
    "    xi = x_ini\n",
    "    if np.linalg.norm(ri) <= tol: return xi\n",
    "    for it in range(itmax):\n",
    "        if it%2 == 0: ri = b - np.dot(A,xi)\n",
    "        Ari = np.dot(A,ri)\n",
    "        alpha = np.dot(ri,ri)/np.dot(ri,Ari)\n",
    "        ri = ri - alpha*Ari\n",
    "        xi = xi + alpha*ri\n",
    "        if np.linalg.norm(ri) <= tol: return xi\n",
    "    raise Exception('No converge')"
   ]
  },
  {
   "cell_type": "code",
   "execution_count": 48,
   "metadata": {},
   "outputs": [
    {
     "name": "stdout",
     "output_type": "stream",
     "text": [
      "[ 2. -2.]\n"
     ]
    }
   ],
   "source": [
    "A = np.array([[3,2],[2,6]])\n",
    "b = np.array([2,-8])\n",
    "x = steep_des(A,b,np.array([0,0]),tol=1e-12)\n",
    "print(x)"
   ]
  },
  {
   "cell_type": "markdown",
   "metadata": {},
   "source": [
    "## Método del Gradiente Conjugado\n",
    "\n"
   ]
  },
  {
   "cell_type": "code",
   "execution_count": null,
   "metadata": {},
   "outputs": [],
   "source": []
  }
 ],
 "metadata": {
  "kernelspec": {
   "display_name": "Python 3",
   "language": "python",
   "name": "python3"
  },
  "language_info": {
   "codemirror_mode": {
    "name": "ipython",
    "version": 3
   },
   "file_extension": ".py",
   "mimetype": "text/x-python",
   "name": "python",
   "nbconvert_exporter": "python",
   "pygments_lexer": "ipython3",
   "version": "3.7.4"
  }
 },
 "nbformat": 4,
 "nbformat_minor": 4
}
