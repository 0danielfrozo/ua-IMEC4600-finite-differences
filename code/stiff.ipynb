{
 "cells": [
  {
   "cell_type": "code",
   "execution_count": 19,
   "metadata": {},
   "outputs": [],
   "source": [
    "import numpy as np\n",
    "import scipy.optimize as spo\n",
    "from scipy.integrate import solve_ivp\n",
    "import matplotlib.pyplot as plt\n",
    "from ipywidgets import interact, interactive, fixed, interact_manual\n",
    "import ipywidgets as widgets"
   ]
  },
  {
   "cell_type": "code",
   "execution_count": 106,
   "metadata": {},
   "outputs": [],
   "source": [
    "def homogeneo(t,y,a):\n",
    "    return a*y\n",
    "\n",
    "def stiff_chapra(t,y,a,b,c):\n",
    "    return homogeneo(t,y,a)+b+c*np.exp(-t)"
   ]
  },
  {
   "cell_type": "code",
   "execution_count": 107,
   "metadata": {},
   "outputs": [],
   "source": [
    "def stiff_chapra_exact(t):\n",
    "    return 3-0.998*np.exp(-1000*t)-2.002*np.exp(-t)\n",
    "\n",
    "t_exact = np.arange(0,0.2,.0001)"
   ]
  },
  {
   "cell_type": "code",
   "execution_count": 108,
   "metadata": {},
   "outputs": [],
   "source": [
    "def euler(func,rtiempo,h,ci,args=[]):\n",
    "    a = args[0]\n",
    "    b = args[1]\n",
    "    c = args[2]\n",
    "    tiempos = np.arange(rtiempo[0],rtiempo[1]+h,h)\n",
    "    ysol = np.zeros(len(tiempos))\n",
    "    ysol[0] = ci[0]\n",
    "    for i,t in enumerate(tiempos[1:], 1):\n",
    "        ysol[i] = ysol[i-1] + h*(func(t,ysol[i-1],a,b,c))\n",
    "    return tiempos,ysol\n"
   ]
  },
  {
   "cell_type": "code",
   "execution_count": 109,
   "metadata": {},
   "outputs": [],
   "source": [
    "def explorestiff(h):\n",
    "    t,y = euler(stiff_chapra,[0,0.2],h,[0],[-1000,3000,-2000])\n",
    "    print(\"h= \",h)\n",
    "    plt.plot(t,y,'--b',t_exact,stiff_chapra_exact(t_exact),'-k')"
   ]
  },
  {
   "cell_type": "code",
   "execution_count": 110,
   "metadata": {},
   "outputs": [
    {
     "data": {
      "application/vnd.jupyter.widget-view+json": {
       "model_id": "bf7e1ee14b5040f698eab8d3b41c9b98",
       "version_major": 2,
       "version_minor": 0
      },
      "text/plain": [
       "interactive(children=(FloatSlider(value=0.005, description='h', max=0.01, min=0.0001, step=0.0001), Output()),…"
      ]
     },
     "metadata": {},
     "output_type": "display_data"
    }
   ],
   "source": [
    "interact(explorestiff, h=(0.0001, 0.01, 0.0001));"
   ]
  },
  {
   "cell_type": "code",
   "execution_count": 111,
   "metadata": {},
   "outputs": [],
   "source": [
    "def implicit_euler(func,rtiempo,h,ci,args=[]):\n",
    "    a = args[0]\n",
    "    b = args[1]\n",
    "    c = args[2]\n",
    "    tiempos = np.arange(rtiempo[0],rtiempo[1]+h,h)\n",
    "    ysol = np.zeros(len(tiempos))\n",
    "    ysol[0] = ci[0]\n",
    "    for i,t in enumerate(tiempos[1:], 1):\n",
    "        def euler_func(y):\n",
    "            return ysol[i-1] + h*(func(t,y,a,b,c)) - y\n",
    "        ysol[i] = spo.fsolve(euler_func,ysol[i-1])\n",
    "    return tiempos,ysol"
   ]
  },
  {
   "cell_type": "code",
   "execution_count": 112,
   "metadata": {},
   "outputs": [],
   "source": [
    "def explorestiff_imp(h):\n",
    "    t,y = implicit_euler(stiff_chapra,[0,0.2],h,[0],[-1000,3000,-2000])\n",
    "    print(\"h= \",h)\n",
    "    plt.plot(t,y,'--b',t_exact,stiff_chapra_exact(t_exact),'-k')"
   ]
  },
  {
   "cell_type": "code",
   "execution_count": 113,
   "metadata": {},
   "outputs": [
    {
     "data": {
      "application/vnd.jupyter.widget-view+json": {
       "model_id": "7d9726827a6545c082fc673d981913d4",
       "version_major": 2,
       "version_minor": 0
      },
      "text/plain": [
       "interactive(children=(FloatSlider(value=0.025, description='h', max=0.05, min=0.0001, step=0.0001), Output()),…"
      ]
     },
     "metadata": {},
     "output_type": "display_data"
    }
   ],
   "source": [
    "interact(explorestiff_imp, h=(0.0001, 0.05, 0.0001));"
   ]
  },
  {
   "cell_type": "code",
   "execution_count": 114,
   "metadata": {},
   "outputs": [
    {
     "data": {
      "text/plain": [
       "[<matplotlib.lines.Line2D at 0x1517b25290>,\n",
       " <matplotlib.lines.Line2D at 0x1517b25490>]"
      ]
     },
     "execution_count": 114,
     "metadata": {},
     "output_type": "execute_result"
    },
    {
     "data": {
      "image/png": "[encoded data removed]",
      "text/plain": [
       "<Figure size 432x288 with 1 Axes>"
      ]
     },
     "metadata": {
      "needs_background": "light"
     },
     "output_type": "display_data"
    }
   ],
   "source": [
    "sol = solve_ivp(stiff_chapra, [0,0.2],[0],method='Radau',args=[-1000,3000,-2000])\n",
    "plt.plot(sol.t,sol.y[0],'--b',t_exact,stiff_chapra_exact(t_exact),'-k')"
   ]
  },
  {
   "cell_type": "code",
   "execution_count": 115,
   "metadata": {},
   "outputs": [
    {
     "data": {
      "text/plain": [
       "array([0.00000000e+00, 1.00000000e-04, 4.25248660e-04, 9.07508377e-04,\n",
       "       1.52632265e-03, 2.29439531e-03, 3.25057506e-03, 4.47251567e-03,\n",
       "       6.11540583e-03, 8.52510980e-03, 1.26476990e-02, 2.21732453e-02,\n",
       "       6.17832185e-02, 2.00000000e-01])"
      ]
     },
     "execution_count": 115,
     "metadata": {},
     "output_type": "execute_result"
    }
   ],
   "source": [
    "sol.t"
   ]
  },
  {
   "cell_type": "code",
   "execution_count": 126,
   "metadata": {},
   "outputs": [],
   "source": [
    "def stiff(t,y,lamb):\n",
    "    return lamb*(y-np.cos(t))-np.sin(t)\n",
    "\n",
    "def stiff_exact(t,lamb, t0, eta):\n",
    "    return np.exp(lamb*(t-t0))*(eta-np.cos(t0))+np.cos(t)\n",
    "\n",
    "t_exact = np.arange(0,10,.1)"
   ]
  },
  {
   "cell_type": "code",
   "execution_count": 142,
   "metadata": {},
   "outputs": [
    {
     "data": {
      "application/vnd.jupyter.widget-view+json": {
       "model_id": "6b4b6527c9f8447a9c4312154a9bbb1d",
       "version_major": 2,
       "version_minor": 0
      },
      "text/plain": [
       "interactive(children=(FloatSlider(value=0.25, description='h', max=0.5, min=0.01, step=0.01), Output()), _dom_…"
      ]
     },
     "metadata": {},
     "output_type": "display_data"
    }
   ],
   "source": [
    "def euler(func,rtiempo,h,ci,args=[]):\n",
    "    a = args[0]\n",
    "    tiempos = np.arange(rtiempo[0],rtiempo[1]+h,h)\n",
    "    ysol = np.zeros(len(tiempos))\n",
    "    ysol[0] = ci[0]\n",
    "    for i,t in enumerate(tiempos[1:], 1):\n",
    "        ysol[i] = ysol[i-1] + h*(func(t,ysol[i-1],a))\n",
    "    return tiempos,ysol\n",
    "\n",
    "def explorestiff(h):\n",
    "    t0 = 0\n",
    "    eta = 2\n",
    "    la = -10\n",
    "    t,y = euler(stiff,[t0,10],h,[eta],[la])\n",
    "    print(\"h= \",h)\n",
    "    plt.plot(t,y,'--b',t_exact,stiff_exact(t_exact,la, t0, eta),'-k')\n",
    "\n",
    "interact(explorestiff, h=(0.01, 0.5, 0.01));"
   ]
  },
  {
   "cell_type": "code",
   "execution_count": 144,
   "metadata": {},
   "outputs": [
    {
     "data": {
      "application/vnd.jupyter.widget-view+json": {
       "model_id": "cd77c27ab18e4edab2efde0f125b7e81",
       "version_major": 2,
       "version_minor": 0
      },
      "text/plain": [
       "interactive(children=(FloatSlider(value=0.25, description='h', max=0.5, min=0.01, step=0.01), Output()), _dom_…"
      ]
     },
     "metadata": {},
     "output_type": "display_data"
    }
   ],
   "source": [
    "def implicit_euler(func,rtiempo,h,ci,args=[]):\n",
    "    a = args[0]\n",
    "    tiempos = np.arange(rtiempo[0],rtiempo[1]+h,h)\n",
    "    ysol = np.zeros(len(tiempos))\n",
    "    ysol[0] = ci[0]\n",
    "    for i,t in enumerate(tiempos[1:], 1):\n",
    "        def euler_func(y):\n",
    "            return ysol[i-1] + h*(func(t,y,a)) - y\n",
    "        ysol[i] = spo.fsolve(euler_func,ysol[i-1])\n",
    "    return tiempos,ysol\n",
    "\n",
    "def explorestiff_imp(h):\n",
    "    t0 = 0\n",
    "    eta = 2\n",
    "    la = -10\n",
    "    t,y = implicit_euler(stiff,[t0,10],h,[eta],[la])\n",
    "    print(\"h= \",h)\n",
    "    plt.plot(t,y,'--b',t_exact,stiff_exact(t_exact,la, t0, eta),'-k')\n",
    "    \n",
    "interact(explorestiff_imp, h=(0.01, 0.5, 0.01));"
   ]
  },
  {
   "cell_type": "code",
   "execution_count": 153,
   "metadata": {},
   "outputs": [
    {
     "data": {
      "text/plain": [
       "[<matplotlib.lines.Line2D at 0x151748c190>,\n",
       " <matplotlib.lines.Line2D at 0x151821ca90>]"
      ]
     },
     "execution_count": 153,
     "metadata": {},
     "output_type": "execute_result"
    },
    {
     "data": {
      "image/png": "[encoded data removed]",
      "text/plain": [
       "<Figure size 432x288 with 1 Axes>"
      ]
     },
     "metadata": {
      "needs_background": "light"
     },
     "output_type": "display_data"
    }
   ],
   "source": [
    "t0 = 0\n",
    "eta = 2\n",
    "la = -1e6\n",
    "sol = solve_ivp(stiff, [t0,10],[eta],method='LSODA',args=[la])\n",
    "plt.plot(sol.t,sol.y[0],'--b',t_exact,stiff_exact(t_exact,la,t0,eta),'-k')"
   ]
  },
  {
   "cell_type": "code",
   "execution_count": null,
   "metadata": {},
   "outputs": [],
   "source": []
  }
 ],
 "metadata": {
  "kernelspec": {
   "display_name": "Python 3",
   "language": "python",
   "name": "python3"
  },
  "language_info": {
   "codemirror_mode": {
    "name": "ipython",
    "version": 3
   },
   "file_extension": ".py",
   "mimetype": "text/x-python",
   "name": "python",
   "nbconvert_exporter": "python",
   "pygments_lexer": "ipython3",
   "version": "3.7.6"
  }
 },
 "nbformat": 4,
 "nbformat_minor": 4
}
